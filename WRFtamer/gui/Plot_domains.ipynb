{
 "cells": [
  {
   "cell_type": "code",
   "execution_count": 3,
   "id": "83a45bca-a41a-485c-a445-afd495219ea9",
   "metadata": {},
   "outputs": [],
   "source": [
    "import numpy as np\n",
    "import matplotlib.pyplot as plt\n",
    "import matplotlib as mpl\n",
    "import netCDF4 as nc\n",
    "from cartopy import crs\n",
    "from cartopy.feature import NaturalEarthFeature\n",
    "import wrf\n",
    "from pathlib import Path"
   ]
  },
  {
   "cell_type": "code",
   "execution_count": 11,
   "id": "f1190a1d-0ccf-412f-9dfa-64e886779469",
   "metadata": {},
   "outputs": [],
   "source": [
    "def get_plot_element(infile):\n",
    "    rootgroup = nc.Dataset(infile, 'r')\n",
    "    p = wrf.getvar(rootgroup, 'P')\n",
    "    #lats, lons = wrf.latlon_coords(p)\n",
    "    cart_proj = wrf.get_cartopy(p)\n",
    "    xlim = wrf.cartopy_xlim(p)\n",
    "    ylim = wrf.cartopy_ylim(p)\n",
    "    rootgroup.close()\n",
    "    return cart_proj, xlim, ylim"
   ]
  },
  {
   "cell_type": "code",
   "execution_count": 13,
   "id": "e06e30e4-c322-4c11-976a-f77378739e22",
   "metadata": {},
   "outputs": [
    {
     "data": {
      "image/png": "[encoded data removed]",
      "text/plain": [
       "<Figure size 720x576 with 1 Axes>"
      ]
     },
     "metadata": {
      "needs_background": "light"
     },
     "output_type": "display_data"
    }
   ],
   "source": [
    "inpath=Path('/inf/run/daniel/MayCase/Nudging_3dom/out/')\n",
    " \n",
    "infile_d01 = inpath/'wrfout_d01_2020-05-18_00:00:00'\n",
    "cart_proj, xlim_d01, ylim_d01 = get_plot_element(infile_d01)\n",
    " \n",
    "infile_d02 = inpath/'wrfout_d02_2020-05-18_00:00:00'\n",
    "_, xlim_d02, ylim_d02 = get_plot_element(infile_d02)\n",
    " \n",
    "infile_d03 = inpath/'wrfout_d03_2020-05-18_00:00:00'\n",
    "_, xlim_d03, ylim_d03 = get_plot_element(infile_d03)\n",
    " \n",
    "fig = plt.figure(figsize=(10,8))\n",
    "ax = plt.axes(projection=cart_proj)\n",
    " \n",
    "states = NaturalEarthFeature(category='cultural', scale='50m', facecolor='none',\n",
    "                             name='admin_1_states_provinces_shp')\n",
    "ax.add_feature(states, linewidth=0.5)\n",
    "ax.coastlines('50m', linewidth=0.8)\n",
    " \n",
    "# d01\n",
    "ax.set_xlim([xlim_d01[0]-(xlim_d01[1]-xlim_d01[0])/15, xlim_d01[1]+(xlim_d01[1]-xlim_d01[0])/15])\n",
    "ax.set_ylim([ylim_d01[0]-(ylim_d01[1]-ylim_d01[0])/15, ylim_d01[1]+(ylim_d01[1]-ylim_d01[0])/15])\n",
    " \n",
    "# d01 box\n",
    "ax.add_patch(mpl.patches.Rectangle((xlim_d01[0], ylim_d01[0]), xlim_d01[1]-xlim_d01[0], ylim_d01[1]-ylim_d01[0],\n",
    "             fill=None, lw=3, edgecolor='blue', zorder=10))\n",
    "ax.text(xlim_d01[0]+(xlim_d01[1]-xlim_d01[0])*0.05, ylim_d01[0]+(ylim_d01[1]-ylim_d01[0])*0.9, 'D01',\n",
    "        size=15, color='blue', zorder=10)\n",
    " \n",
    "# d02 box\n",
    "ax.add_patch(mpl.patches.Rectangle((xlim_d02[0], ylim_d02[0]), xlim_d02[1]-xlim_d02[0], ylim_d02[1]-ylim_d02[0],\n",
    "             fill=None, lw=3, edgecolor='black', zorder=10))\n",
    "ax.text(xlim_d02[0]+(xlim_d02[1]-xlim_d02[0])*0.05, ylim_d02[0]+(ylim_d02[1]-ylim_d02[0])*1.1, 'D02',\n",
    "        size=15, color='black', zorder=10)\n",
    " \n",
    "# d03 box\n",
    "ax.add_patch(mpl.patches.Rectangle((xlim_d03[0], ylim_d03[0]), xlim_d03[1]-xlim_d03[0], ylim_d03[1]-ylim_d03[0],\n",
    "             fill=None, lw=3, edgecolor='red', zorder=10))\n",
    "ax.text(xlim_d03[0]+(xlim_d03[1]-xlim_d03[0])*0.1, ylim_d03[0]+(ylim_d03[1]-ylim_d03[0])*0.8, 'D03',\n",
    "        size=15, color='red', zorder=10)\n",
    " \n",
    "ax.set_title('WRF nested domain setup', size=20)\n",
    " \n",
    "plt.show()\n",
    "#fig.savefig('WRF_domain_pywrf.big.png', dpi=600)"
   ]
  },
  {
   "cell_type": "code",
   "execution_count": null,
   "id": "1fe6795e-c08d-4481-8fb2-11515ef7d7ff",
   "metadata": {},
   "outputs": [],
   "source": []
  }
 ],
 "metadata": {
  "kernelspec": {
   "display_name": "Python 3",
   "language": "python",
   "name": "python3"
  },
  "language_info": {
   "codemirror_mode": {
    "name": "ipython",
    "version": 3
   },
   "file_extension": ".py",
   "mimetype": "text/x-python",
   "name": "python",
   "nbconvert_exporter": "python",
   "pygments_lexer": "ipython3",
   "version": "3.7.12"
  }
 },
 "nbformat": 4,
 "nbformat_minor": 5
}
